{
 "cells": [
  {
   "cell_type": "markdown",
   "id": "8c03979a",
   "metadata": {},
   "source": [
    "# First Analysis - RJ Election 2022\n",
    "Apresenta a primeira análise dos dados com uma exibição base em python.\n",
    "\n",
    "Exibe o tipo dos dados coletados em tabelas e permite uma observação primitiva de sua organização."
   ]
  },
  {
   "cell_type": "code",
   "execution_count": null,
   "id": "4dbcb33b",
   "metadata": {},
   "outputs": [],
   "source": [
    "# Import de bibliotecas"
   ]
  },
  {
   "cell_type": "code",
   "execution_count": null,
   "id": "136aeff5",
   "metadata": {},
   "outputs": [],
   "source": [
    "# Caminho dos dados\n",
    "\n",
    "\n",
    "\n",
    "# Leitura dos arquivos para dataframes -> usando pandas"
   ]
  },
  {
   "cell_type": "code",
   "execution_count": null,
   "id": "5640b230",
   "metadata": {},
   "outputs": [],
   "source": [
    "# Verificação das primeiras linhas dos dados\n",
    "\n",
    "# Quantidade de municipios em cada dataframe\n",
    "\n",
    "# Celulas em branco\n",
    "\n",
    "# Dados duplicados"
   ]
  },
  {
   "cell_type": "code",
   "execution_count": null,
   "id": "302fbb87",
   "metadata": {},
   "outputs": [],
   "source": [
    "# Tratamento das tabelas para conter apenas as informações que estamos interessados (removendo colunas extras que não utilizaremos)"
   ]
  },
  {
   "cell_type": "code",
   "execution_count": null,
   "id": "c0776247",
   "metadata": {},
   "outputs": [],
   "source": [
    "# Resumo das modificações\n",
    "\n",
    "# Plot de informações estatísticas"
   ]
  }
 ],
 "metadata": {
  "kernelspec": {
   "display_name": "Python 3",
   "language": "python",
   "name": "python3"
  },
  "language_info": {
   "name": "python",
   "version": "3.11.9"
  }
 },
 "nbformat": 4,
 "nbformat_minor": 5
}
